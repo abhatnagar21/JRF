{
 "cells": [
  {
   "cell_type": "code",
   "execution_count": 3,
   "id": "f96f7d3a",
   "metadata": {},
   "outputs": [],
   "source": [
    "import os\n",
    "import json\n",
    "import warnings\n",
    "warnings.filterwarnings(\"ignore\")\n",
    "import pandas as pd\n",
    "import numpy as np\n",
    "import matplotlib.pyplot as plt\n",
    "from sklearn.metrics import mean_absolute_error, mean_squared_error\n",
    "from xgboost import XGBRegressor"
   ]
  },
  {
   "cell_type": "code",
   "execution_count": null,
   "id": "5cab57d4",
   "metadata": {},
   "outputs": [],
   "source": [
    "def read_excel_auto(path):\n",
    "    df= None\n",
    "    try:\n",
    "        df=pd.read_excel(path,engine='openpyxl')\n",
    "        user_reader=\"csv-,(semicolon)\"\n",
    "    except Exception:\n",
    "        try:\n",
    "            df=pd.read_csv(path, sep=';', engine=\"python\")\n",
    "            used_reader='csv-; (comma)'\n",
    "\n",
    "\n"
   ]
  }
 ],
 "metadata": {
  "kernelspec": {
   "display_name": "Python 3",
   "language": "python",
   "name": "python3"
  },
  "language_info": {
   "codemirror_mode": {
    "name": "ipython",
    "version": 3
   },
   "file_extension": ".py",
   "mimetype": "text/x-python",
   "name": "python",
   "nbconvert_exporter": "python",
   "pygments_lexer": "ipython3",
   "version": "3.10.11"
  }
 },
 "nbformat": 4,
 "nbformat_minor": 5
}
